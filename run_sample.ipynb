{
 "cells": [
  {
   "cell_type": "code",
   "execution_count": 3,
   "metadata": {},
   "outputs": [],
   "source": [
    "import pickle\n",
    "from rankUP import rankUP"
   ]
  },
  {
   "cell_type": "code",
   "execution_count": 6,
   "metadata": {},
   "outputs": [],
   "source": [
    "text_list = [\"I am walking across the street.\",\n",
    "\"He was also acrossing the street\"]"
   ]
  },
  {
   "cell_type": "code",
   "execution_count": 7,
   "metadata": {},
   "outputs": [
    {
     "output_type": "error",
     "ename": "NameError",
     "evalue": "name 'news_list' is not defined",
     "traceback": [
      "\u001b[0;31m---------------------------------------------------------------------------\u001b[0m",
      "\u001b[0;31mNameError\u001b[0m                                 Traceback (most recent call last)",
      "\u001b[0;32m<ipython-input-7-7e1fdffe387e>\u001b[0m in \u001b[0;36m<module>\u001b[0;34m\u001b[0m\n\u001b[0;32m----> 1\u001b[0;31m \u001b[0mtext_list\u001b[0m \u001b[0;34m=\u001b[0m \u001b[0;34m[\u001b[0m\u001b[0mnews\u001b[0m\u001b[0;34m[\u001b[0m\u001b[0;34m'content'\u001b[0m\u001b[0;34m]\u001b[0m \u001b[0;32mfor\u001b[0m \u001b[0mnews\u001b[0m \u001b[0;32min\u001b[0m \u001b[0mnews_list\u001b[0m\u001b[0;34m]\u001b[0m\u001b[0;34m\u001b[0m\u001b[0;34m\u001b[0m\u001b[0m\n\u001b[0m",
      "\u001b[0;31mNameError\u001b[0m: name 'news_list' is not defined"
     ]
    }
   ],
   "source": [
    "text_list = [news['content'] for news in news_list]"
   ]
  },
  {
   "cell_type": "code",
   "execution_count": 8,
   "metadata": {},
   "outputs": [
    {
     "output_type": "error",
     "ename": "AssertionError",
     "evalue": "",
     "traceback": [
      "\u001b[0;31m---------------------------------------------------------------------------\u001b[0m",
      "\u001b[0;31mAssertionError\u001b[0m                            Traceback (most recent call last)",
      "\u001b[0;32m<ipython-input-8-625e64e0c300>\u001b[0m in \u001b[0;36m<module>\u001b[0;34m\u001b[0m\n\u001b[0;32m----> 1\u001b[0;31m \u001b[0mkeyword_dicts\u001b[0m \u001b[0;34m=\u001b[0m \u001b[0mrankUP\u001b[0m\u001b[0;34m(\u001b[0m\u001b[0mtext_list\u001b[0m\u001b[0;34m)\u001b[0m\u001b[0;34m\u001b[0m\u001b[0;34m\u001b[0m\u001b[0m\n\u001b[0m",
      "\u001b[0;32m~/Desktop/Research/RankUP/rankUP.py\u001b[0m in \u001b[0;36mrankUP\u001b[0;34m(text_list, tfidf_dict_list, target_idx)\u001b[0m\n\u001b[1;32m    162\u001b[0m         \u001b[0mtr\u001b[0m \u001b[0;34m=\u001b[0m \u001b[0mcreat_np_array\u001b[0m\u001b[0;34m(\u001b[0m\u001b[0mtr_dict\u001b[0m\u001b[0;34m,\u001b[0m \u001b[0mvocab\u001b[0m\u001b[0;34m)\u001b[0m\u001b[0;34m\u001b[0m\u001b[0;34m\u001b[0m\u001b[0m\n\u001b[1;32m    163\u001b[0m \u001b[0;34m\u001b[0m\u001b[0m\n\u001b[0;32m--> 164\u001b[0;31m         \u001b[0;32massert\u001b[0m \u001b[0mlen\u001b[0m\u001b[0;34m(\u001b[0m\u001b[0mtr_dict\u001b[0m\u001b[0;34m)\u001b[0m \u001b[0;34m==\u001b[0m \u001b[0mlen\u001b[0m\u001b[0;34m(\u001b[0m\u001b[0mtfidf_dict_list\u001b[0m\u001b[0;34m[\u001b[0m\u001b[0midx\u001b[0m\u001b[0;34m]\u001b[0m\u001b[0;34m)\u001b[0m\u001b[0;34m\u001b[0m\u001b[0;34m\u001b[0m\u001b[0m\n\u001b[0m\u001b[1;32m    165\u001b[0m         \u001b[0;31m# print( \"tr:\", len(tr_dict), \"\\ttfidf:\", len(tfidf_dict_list[idx]) )\u001b[0m\u001b[0;34m\u001b[0m\u001b[0;34m\u001b[0m\u001b[0;34m\u001b[0m\u001b[0m\n\u001b[1;32m    166\u001b[0m \u001b[0;34m\u001b[0m\u001b[0m\n",
      "\u001b[0;31mAssertionError\u001b[0m: "
     ]
    }
   ],
   "source": [
    "keyword_dicts = rankUP(text_list)"
   ]
  },
  {
   "cell_type": "code",
   "execution_count": 16,
   "metadata": {
    "tags": []
   },
   "outputs": [
    {
     "output_type": "stream",
     "name": "stdout",
     "text": [
      "topK keyword:\n      said\t5.533734981327617\n   surigae\t5.091921946355722\n    taiwan\t2.963463627496687\n yesterday\t2.5663388725174183\n  strength\t2.3509992899135463\n\n     water\t7.875198267613478\ninstallation\t5.933099934150122\ncertification\t5.933099934150122\nexpediting\t5.933099934150121\n   filters\t5.933099934150121\n\n    caesar\t5.4334815931377145\n    hilton\t5.271205986909423\n    regent\t5.082755870272607\n  consider\t4.9748258290661775\n carefully\t4.9748258290661775\n\n   percent\t6.627626065500962\n         8\t5.201106491374662\n     canal\t4.599627645314352\n      said\t4.474352486664176\n     trade\t4.2854686332944185\n\n     names\t24.999884816284155\n    street\t23.51393907307005\n represent\t22.857991336281756\n    taipei\t22.666961747808994\n         “\t2.074789026243264\n\n    pilots\t15.374460545732196\n       far\t12.219932559296693\n      said\t12.12627381453096\n    fleets\t11.434482137264741\n  minister\t11.21906186554452\n\n     pilot\t3.2174752711220047\n        66\t2.1373737643768425\n      f-5s\t2.0680027240431396\n      jets\t2.0064759202620586\n       f-5\t2.001368610593239\n\n     train\t7.155613481507257\n  designed\t3.3585876597424744\nspecifically\t2.989703132617466\n withstand\t2.959806217568518\n      high\t2.958138106927442\n\nhelicopter\t3.600874511880029\n ingenuity\t2.782098743597604\n     image\t2.2680291778735917\n    images\t1.868397502396928\n   martian\t1.8439312705844344\n\nastronauts\t4.845107834346305\n     space\t4.611260244328628\nspacecraft\t3.3578554640739013\n      crew\t3.2368421020417077\n   station\t3.2060850373888337\n\n"
     ]
    }
   ],
   "source": [
    "K = 5\n",
    "print(\"topK keyword:\")\n",
    "for keyword_dict in keyword_dicts:\n",
    "    for idx, k in enumerate(keyword_dict):\n",
    "        print(\"{:>10}\\t{}\".format(k, keyword_dict[k]))\n",
    "        if idx == K-1:\n",
    "            break\n",
    "    print()"
   ]
  }
 ],
 "metadata": {
  "kernelspec": {
   "display_name": "Python 3",
   "language": "python",
   "name": "python3"
  },
  "language_info": {
   "codemirror_mode": {
    "name": "ipython",
    "version": 3
   },
   "file_extension": ".py",
   "mimetype": "text/x-python",
   "name": "python",
   "nbconvert_exporter": "python",
   "pygments_lexer": "ipython3",
   "version": "3.7.4-final"
  },
  "toc": {
   "base_numbering": 1,
   "nav_menu": {},
   "number_sections": true,
   "sideBar": true,
   "skip_h1_title": false,
   "title_cell": "Table of Contents",
   "title_sidebar": "Contents",
   "toc_cell": false,
   "toc_position": {},
   "toc_section_display": true,
   "toc_window_display": false
  }
 },
 "nbformat": 4,
 "nbformat_minor": 2
}